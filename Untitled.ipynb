{
 "cells": [
  {
   "cell_type": "markdown",
   "metadata": {},
   "source": [
    "<img style=\"float: left; margin: 30px 15px 15px 15px;\" src=\"https://pngimage.net/wp-content/uploads/2018/06/logo-iteso-png-5.png\" width=\"300\" height=\"500\" /> \n",
    "    \n",
    "    \n",
    "### <font color='navy'> Simulación de procesos financieros. \n",
    "\n",
    "**Nombres:** Daniel Castillo Hernandez ,\n",
    "             Anehi Karely Mayorquin.\n",
    "\n",
    "**Fecha:** 19 de octubre de 2020\n",
    "\n",
    "**Expediente** : Karely = if707468 , Daniel = if698367\n",
    "    \n",
    "**Profesor:** Oscar David Jaramillo Zuluaga.\n",
    "\n",
    "### PROYECTO 1"
   ]
  },
  {
   "cell_type": "markdown",
   "metadata": {},
   "source": [
    "<p <div style=\"text-align:center\"><span style=\"; font-family:Calibri Light; font-size:1.6em;\"> Violencia en México </span></div> </p>\n",
    "\n",
    "<p style = \"font-family: Calibri Light; font-size:1.2em;color:black;\"> Simulación de homicidios, secuestros, feminicidios y robo a casa-habitación en México de 2016 a 2020 con los datos abiertos que el Instituto Nacional de Estadística y Geografía proporciona. Se modelará para intentar llegar a conclusiones tales como a lo largo de los años ha afectado esto en la economía o en otros sectores, realizar comparaciones entre años, estados, y/o proyecciones. </p>"
   ]
  },
  {
   "attachments": {},
   "cell_type": "markdown",
   "metadata": {},
   "source": [
    "### Definición del problema.\n",
    "\n",
    "<p style = \"font-family: Calibri Light; font-size:1.3em;color:black;\"> La inseguridad es una de las problemáticas más conocidas de este país, siendo considerado como el mayor motivo de preocupación por los habitantes de México y teniendo este país algunas de las ciudades consideradas más peligrosas del mundo. Los principales motivos para ello son la delincuencia y el crimen organizado, especialmente el narcotráfico. La delincuencia organizada tiene prácticamente las mismas consecuencias para el individuo, la comunidad y la sociedad que cualquier otro delito. Sin embargo, el impacto de la delincuencia organizada puede ser mayor y más corrosivo que el crimen individual. Esto se debe principalmente a  los  métodos usados por estas organizaciones para cumplir sus objetivos y mantener su poder. Se detalla algunas de las principales características de la delincuencia organizada: \n",
    "\n",
    "    1.- Activida principal\n",
    "    - Tráfico de drogas aproximadamente más del 50% de las actividades\n",
    "    - Trata/tráfico de personas\n",
    "    - Reproducción ilícita de propiedad intelectual (pirateo, clonación)\n",
    "    - Tráfico y venta de armas ilícitas\n",
    "    - Contrabando de artefactos culturales y diversidad biológica (peces exóticos, animales en vías de extinción o protegidos). \n",
    "    \n",
    "2.- Enfoque y economía\n",
    "    - Un informe de desarrollo humano de las Naciones Unidas señala que la delincuencia organizada recauda alrededor de 1.6 billones de dólares por año a nivel mundial.\n",
    "</p>\n",
    "\n",
    "<p style = \"font-family: Calibri Light; font-size:1.3em;color:black;\"> Dentro de esto se agregaría el machismo y los feminicidios, la sociedad mexicana sigue siendo en gran medida patriarcal y “tradicional”, la violencia de género, especialmente en lo que respecta a la violencia física y sexual siguen siendo uno de los problemas más grandes sociales en México.  </p>\n",
    "\n",
    "\n",
    "### 1.4 Nodos y variables que se decidieron simular\n",
    "\n",
    "> #### *Variables y nodos:*\n",
    ">> <p style = \"font-family: Calibri Light; font-size:1.2em;color:black;\"> 1 - Homicidios, secuestros, feminicidio y robo a casa-habitación </p>\n",
    ">> <p style = \"font-family: Calibri Light; font-size:1.2em;color:black;\"> 2 -  Estados </p>\n",
    ">> <p style = \"font-family: Calibri Light; font-size:1.2em;color:black;\"> 3 - Nivel económico y economía respecto al año </p>\n",
    ">> <p style = \"font-family: Calibri Light; font-size:1.2em;color:black;\"> 4 - </p>"
   ]
  },
  {
   "cell_type": "code",
   "execution_count": null,
   "metadata": {},
   "outputs": [],
   "source": []
  }
 ],
 "metadata": {
  "kernelspec": {
   "display_name": "Python 3",
   "language": "python",
   "name": "python3"
  },
  "language_info": {
   "codemirror_mode": {
    "name": "ipython",
    "version": 3
   },
   "file_extension": ".py",
   "mimetype": "text/x-python",
   "name": "python",
   "nbconvert_exporter": "python",
   "pygments_lexer": "ipython3",
   "version": "3.7.6"
  }
 },
 "nbformat": 4,
 "nbformat_minor": 4
}
